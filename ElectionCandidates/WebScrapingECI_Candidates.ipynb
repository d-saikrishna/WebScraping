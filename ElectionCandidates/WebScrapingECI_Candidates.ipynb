{
 "cells": [
  {
   "cell_type": "markdown",
   "metadata": {},
   "source": [
    "# Webscraping contestants from ECI\n",
    "\n",
    "## Problem Statement:\n",
    "Scrape details of women contestants from the ECI website of the 2021 State Assembly elections. "
   ]
  },
  {
   "cell_type": "code",
   "execution_count": 1,
   "metadata": {},
   "outputs": [],
   "source": [
    "# Loading required packages\n",
    "import pandas as pd\n",
    "import numpy as np\n",
    "import math\n",
    "\n",
    "\n",
    "# Packages for webscraping\n",
    "import os, random, sys, time\n",
    "from urllib.parse import urlparse\n",
    "from selenium import webdriver\n",
    "from bs4 import BeautifulSoup\n",
    "import requests"
   ]
  },
  {
   "cell_type": "markdown",
   "metadata": {},
   "source": [
    "We'll now write the following blocks and then assemble them together:\n",
    "\n",
    "- get_candidate_links: This will extract all candidate links from a given webpage. \n",
    "\n",
    "- get_details: This function will extract all the required details about a candidate from a candidate posting and append it to the dataframe."
   ]
  },
  {
   "cell_type": "code",
   "execution_count": 50,
   "metadata": {},
   "outputs": [],
   "source": [
    "base_url = 'https://affidavit.eci.gov.in/?page='\n",
    "pages = [base_url+str(num) for num in range(1,1561)]"
   ]
  },
  {
   "cell_type": "code",
   "execution_count": 104,
   "metadata": {},
   "outputs": [],
   "source": [
    "#Get candidate links\n",
    "candidate_links = []\n",
    "for page in pages:\n",
    "    #if int(page.split('=')[1])%10 == 0:\n",
    "     #   print(page.split('=')[1])\n",
    "    req1 = requests.get(page)\n",
    "    soup1 = BeautifulSoup(req1.text, \"html.parser\")\n",
    "    for i in range(0,10):\n",
    "        candidate_links.append(soup1.find_all(class_='img-bx')[i].find(\"a\", href=True)['href'])"
   ]
  },
  {
   "cell_type": "code",
   "execution_count": 105,
   "metadata": {},
   "outputs": [
    {
     "data": {
      "text/plain": [
       "['https://affidavit.eci.gov.in/show-profile/MTY4OTY=/MTY=/MTA=/Mw==/QUM=',\n",
       " 'https://affidavit.eci.gov.in/show-profile/MTY4OTc=/MTY=/MTA=/Mw==/QUM=',\n",
       " 'https://affidavit.eci.gov.in/show-profile/MTY4OTg=/MTY=/MTA=/Mw==/QUM=',\n",
       " 'https://affidavit.eci.gov.in/show-profile/MTY4OTk=/MTY=/MTA=/Mw==/QUM=',\n",
       " 'https://affidavit.eci.gov.in/show-profile/MTY5MDA=/MTY=/MTA=/Mw==/QUM=']"
      ]
     },
     "execution_count": 105,
     "metadata": {},
     "output_type": "execute_result"
    }
   ],
   "source": [
    "candidate_links[:5]"
   ]
  },
  {
   "cell_type": "code",
   "execution_count": 106,
   "metadata": {},
   "outputs": [
    {
     "data": {
      "text/plain": [
       "15600"
      ]
     },
     "execution_count": 106,
     "metadata": {},
     "output_type": "execute_result"
    }
   ],
   "source": [
    "len(candidate_links)"
   ]
  },
  {
   "cell_type": "code",
   "execution_count": 90,
   "metadata": {},
   "outputs": [],
   "source": [
    "def get_details(candidate_links,df):\n",
    "    for (idx,link) in enumerate(candidate_links):\n",
    "        if idx%10 == 0:\n",
    "            print(idx)\n",
    "        req = requests.get(link)\n",
    "        soup = BeautifulSoup(req.text, \"html.parser\")\n",
    "        \n",
    "        \n",
    "        details1 = soup.find_all(class_='col-sm-6')\n",
    "        party = details1[1].get_text().split('\\n')[4].strip()\n",
    "        constituency = details1[1].get_text().split('\\n')[26]\n",
    "        state = details1[1].get_text().split('\\n')[33]\n",
    "        status = details1[1].get_text().split('\\n')[-4]\n",
    "        \n",
    "        details = soup.find_all(class_='form-group')\n",
    "        candidate_name = details[2].get_text().split('\\n')[-2]\n",
    "        age = details[-1].get_text().split('\\n')[-2]\n",
    "        gender = details[-2].get_text().split('\\n')[-2]\n",
    "        \n",
    "        df = df.append({'Candidate':candidate_name, \"Party\":party, \"Status\":status,\n",
    "                    'State':state, \"Constituency\":constituency, \"Age\":age,\n",
    "                   \"Gender\":gender},ignore_index=True)\n",
    "        \n",
    "    return df"
   ]
  },
  {
   "cell_type": "code",
   "execution_count": 95,
   "metadata": {},
   "outputs": [
    {
     "data": {
      "text/html": [
       "<div>\n",
       "<style scoped>\n",
       "    .dataframe tbody tr th:only-of-type {\n",
       "        vertical-align: middle;\n",
       "    }\n",
       "\n",
       "    .dataframe tbody tr th {\n",
       "        vertical-align: top;\n",
       "    }\n",
       "\n",
       "    .dataframe thead th {\n",
       "        text-align: right;\n",
       "    }\n",
       "</style>\n",
       "<table border=\"1\" class=\"dataframe\">\n",
       "  <thead>\n",
       "    <tr style=\"text-align: right;\">\n",
       "      <th></th>\n",
       "      <th>Candidate</th>\n",
       "      <th>Party</th>\n",
       "      <th>Status</th>\n",
       "      <th>State</th>\n",
       "      <th>Constituency</th>\n",
       "      <th>Age</th>\n",
       "      <th>Gender</th>\n",
       "    </tr>\n",
       "  </thead>\n",
       "  <tbody>\n",
       "  </tbody>\n",
       "</table>\n",
       "</div>"
      ],
      "text/plain": [
       "Empty DataFrame\n",
       "Columns: [Candidate, Party, Status, State, Constituency, Age, Gender]\n",
       "Index: []"
      ]
     },
     "execution_count": 95,
     "metadata": {},
     "output_type": "execute_result"
    }
   ],
   "source": [
    "empty_df = pd.DataFrame(columns=[\"Candidate\",\"Party\",\"Status\",\"State\",\"Constituency\",\"Age\",\"Gender\"])\n",
    "empty_df"
   ]
  },
  {
   "cell_type": "code",
   "execution_count": null,
   "metadata": {},
   "outputs": [],
   "source": [
    "df = get_details(candidate_links,empty_df)"
   ]
  },
  {
   "cell_type": "code",
   "execution_count": 98,
   "metadata": {},
   "outputs": [
    {
     "data": {
      "text/html": [
       "<div>\n",
       "<style scoped>\n",
       "    .dataframe tbody tr th:only-of-type {\n",
       "        vertical-align: middle;\n",
       "    }\n",
       "\n",
       "    .dataframe tbody tr th {\n",
       "        vertical-align: top;\n",
       "    }\n",
       "\n",
       "    .dataframe thead th {\n",
       "        text-align: right;\n",
       "    }\n",
       "</style>\n",
       "<table border=\"1\" class=\"dataframe\">\n",
       "  <thead>\n",
       "    <tr style=\"text-align: right;\">\n",
       "      <th></th>\n",
       "      <th>Candidate</th>\n",
       "      <th>Party</th>\n",
       "      <th>Status</th>\n",
       "      <th>State</th>\n",
       "      <th>Constituency</th>\n",
       "      <th>Age</th>\n",
       "      <th>Gender</th>\n",
       "    </tr>\n",
       "  </thead>\n",
       "  <tbody>\n",
       "    <tr>\n",
       "      <th>0</th>\n",
       "      <td>ABDUL ALIM</td>\n",
       "      <td>Independent</td>\n",
       "      <td>Accepted</td>\n",
       "      <td>West Bengal</td>\n",
       "      <td>Manikchak</td>\n",
       "      <td>30</td>\n",
       "      <td>male</td>\n",
       "    </tr>\n",
       "    <tr>\n",
       "      <th>1</th>\n",
       "      <td>SWAPAN DAS</td>\n",
       "      <td>Bahujan Mukti Party</td>\n",
       "      <td>Accepted</td>\n",
       "      <td>West Bengal</td>\n",
       "      <td>Rashbehari</td>\n",
       "      <td>57</td>\n",
       "      <td>male</td>\n",
       "    </tr>\n",
       "    <tr>\n",
       "      <th>2</th>\n",
       "      <td>Nani Gopal Dawn</td>\n",
       "      <td>Independent</td>\n",
       "      <td>Accepted</td>\n",
       "      <td>West Bengal</td>\n",
       "      <td>Asansol Uttar</td>\n",
       "      <td>56</td>\n",
       "      <td>male</td>\n",
       "    </tr>\n",
       "    <tr>\n",
       "      <th>3</th>\n",
       "      <td>ALAM MOTTAKIN</td>\n",
       "      <td>Indian National Congress</td>\n",
       "      <td>Accepted</td>\n",
       "      <td>West Bengal</td>\n",
       "      <td>Manikchak</td>\n",
       "      <td>42</td>\n",
       "      <td>male</td>\n",
       "    </tr>\n",
       "    <tr>\n",
       "      <th>4</th>\n",
       "      <td>PREETAM KUNDU</td>\n",
       "      <td>Independent</td>\n",
       "      <td>Accepted</td>\n",
       "      <td>West Bengal</td>\n",
       "      <td>Rashbehari</td>\n",
       "      <td>41</td>\n",
       "      <td>male</td>\n",
       "    </tr>\n",
       "    <tr>\n",
       "      <th>...</th>\n",
       "      <td>...</td>\n",
       "      <td>...</td>\n",
       "      <td>...</td>\n",
       "      <td>...</td>\n",
       "      <td>...</td>\n",
       "      <td>...</td>\n",
       "      <td>...</td>\n",
       "    </tr>\n",
       "    <tr>\n",
       "      <th>15595</th>\n",
       "      <td>DIPEN BAURI</td>\n",
       "      <td>SOCIALIST UNITY CENTRE OF INDIA (COMMUNIST)</td>\n",
       "      <td>Accepted</td>\n",
       "      <td>West Bengal</td>\n",
       "      <td>Saltora</td>\n",
       "      <td>49</td>\n",
       "      <td>male</td>\n",
       "    </tr>\n",
       "    <tr>\n",
       "      <th>15596</th>\n",
       "      <td>SURJYENDU BIKASH PATRA</td>\n",
       "      <td>SOCIALIST UNITY CENTRE OF INDIA (COMMUNIST)</td>\n",
       "      <td>Accepted</td>\n",
       "      <td>West Bengal</td>\n",
       "      <td>Patashpur</td>\n",
       "      <td>36</td>\n",
       "      <td>male</td>\n",
       "    </tr>\n",
       "    <tr>\n",
       "      <th>15597</th>\n",
       "      <td>JAGADIS SAU</td>\n",
       "      <td>SOCIALIST UNITY CENTRE OF INDIA (COMMUNIST)</td>\n",
       "      <td>Accepted</td>\n",
       "      <td>West Bengal</td>\n",
       "      <td>Egra</td>\n",
       "      <td>60</td>\n",
       "      <td>male</td>\n",
       "    </tr>\n",
       "    <tr>\n",
       "      <th>15598</th>\n",
       "      <td>Somnath Mandal</td>\n",
       "      <td>SOCIALIST UNITY CENTRE OF INDIA (COMMUNIST)</td>\n",
       "      <td>Accepted</td>\n",
       "      <td>West Bengal</td>\n",
       "      <td>Khejuri</td>\n",
       "      <td>67</td>\n",
       "      <td>male</td>\n",
       "    </tr>\n",
       "    <tr>\n",
       "      <th>15599</th>\n",
       "      <td>Somnath Mandal</td>\n",
       "      <td>SOCIALIST UNITY CENTRE OF INDIA (COMMUNIST)</td>\n",
       "      <td>Accepted</td>\n",
       "      <td>West Bengal</td>\n",
       "      <td>Khejuri</td>\n",
       "      <td>67</td>\n",
       "      <td>male</td>\n",
       "    </tr>\n",
       "  </tbody>\n",
       "</table>\n",
       "<p>15600 rows × 7 columns</p>\n",
       "</div>"
      ],
      "text/plain": [
       "                    Candidate                                        Party  \\\n",
       "0                  ABDUL ALIM                                  Independent   \n",
       "1                  SWAPAN DAS                          Bahujan Mukti Party   \n",
       "2             Nani Gopal Dawn                                  Independent   \n",
       "3               ALAM MOTTAKIN                     Indian National Congress   \n",
       "4               PREETAM KUNDU                                  Independent   \n",
       "...                       ...                                          ...   \n",
       "15595             DIPEN BAURI  SOCIALIST UNITY CENTRE OF INDIA (COMMUNIST)   \n",
       "15596  SURJYENDU BIKASH PATRA  SOCIALIST UNITY CENTRE OF INDIA (COMMUNIST)   \n",
       "15597             JAGADIS SAU  SOCIALIST UNITY CENTRE OF INDIA (COMMUNIST)   \n",
       "15598          Somnath Mandal  SOCIALIST UNITY CENTRE OF INDIA (COMMUNIST)   \n",
       "15599          Somnath Mandal  SOCIALIST UNITY CENTRE OF INDIA (COMMUNIST)   \n",
       "\n",
       "         Status         State   Constituency Age Gender  \n",
       "0      Accepted  West Bengal       Manikchak  30   male  \n",
       "1      Accepted  West Bengal      Rashbehari  57   male  \n",
       "2      Accepted  West Bengal   Asansol Uttar  56   male  \n",
       "3      Accepted  West Bengal       Manikchak  42   male  \n",
       "4      Accepted  West Bengal      Rashbehari  41   male  \n",
       "...         ...           ...            ...  ..    ...  \n",
       "15595  Accepted  West Bengal         Saltora  49   male  \n",
       "15596  Accepted  West Bengal       Patashpur  36   male  \n",
       "15597  Accepted  West Bengal            Egra  60   male  \n",
       "15598  Accepted  West Bengal         Khejuri  67   male  \n",
       "15599  Accepted  West Bengal         Khejuri  67   male  \n",
       "\n",
       "[15600 rows x 7 columns]"
      ]
     },
     "execution_count": 98,
     "metadata": {},
     "output_type": "execute_result"
    }
   ],
   "source": [
    "df#.to_csv('AllCandidates')"
   ]
  }
 ],
 "metadata": {
  "kernelspec": {
   "display_name": "Python 3",
   "language": "python",
   "name": "python3"
  },
  "language_info": {
   "codemirror_mode": {
    "name": "ipython",
    "version": 3
   },
   "file_extension": ".py",
   "mimetype": "text/x-python",
   "name": "python",
   "nbconvert_exporter": "python",
   "pygments_lexer": "ipython3",
   "version": "3.8.3"
  }
 },
 "nbformat": 4,
 "nbformat_minor": 4
}
