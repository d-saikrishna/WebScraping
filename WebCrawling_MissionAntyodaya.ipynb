{
 "cells": [
  {
   "cell_type": "code",
   "execution_count": 55,
   "metadata": {},
   "outputs": [],
   "source": [
    "import pandas as pd\n",
    "import numpy as np\n",
    "import math\n",
    "\n",
    "\n",
    "# Packages for webscraping\n",
    "import os, random, sys, time\n",
    "from urllib.parse import urlparse\n",
    "from selenium import webdriver\n",
    "from bs4 import BeautifulSoup\n",
    "import requests\n",
    "\n",
    "#Packages for Reading PDFs\n",
    "import camelot\n",
    "\n",
    "import os"
   ]
  },
  {
   "cell_type": "code",
   "execution_count": 2,
   "metadata": {},
   "outputs": [],
   "source": [
    "from selenium.webdriver.support.ui import WebDriverWait\n",
    "from selenium.webdriver.common.by import By\n",
    "from selenium.webdriver.support import expected_conditions as EC\n",
    "from selenium.webdriver.support.ui import Select\n",
    "from selenium.common.exceptions import NoSuchElementException\n",
    "from selenium.common.exceptions import StaleElementReferenceException"
   ]
  },
  {
   "cell_type": "code",
   "execution_count": 12,
   "metadata": {},
   "outputs": [],
   "source": [
    "driver = webdriver.Chrome('chromedriver.exe')"
   ]
  },
  {
   "cell_type": "code",
   "execution_count": 13,
   "metadata": {},
   "outputs": [],
   "source": [
    "base_url = 'https://missionantyodaya.nic.in/preloginScoreOfGp2020.html'"
   ]
  },
  {
   "cell_type": "code",
   "execution_count": null,
   "metadata": {},
   "outputs": [],
   "source": [
    "# LOOPING ACROSS 34 DISTRICTS IN TELANGANA. IF YOU WANT ALL INDIA, GENERATE A DYNAMIC COUNTER TO COUNT NUMBER OF DISTRICTS FOR EACH STATE\n",
    "for i in range(1,34,1):\n",
    "    #OPEN URL\n",
    "    driver.get(base_url)\n",
    "    driver.implicitly_wait(10)\n",
    "    # SELECT STATE -- DEFAULTING TO TELANGANA -- at No.33\n",
    "    Select(driver.find_element_by_xpath(\"//select[@name='stateCode']\")).options[33].click()\n",
    "    print('District No:',i)\n",
    "    time.sleep(2)\n",
    "    # SELECT EACH DISTRICT and HIT SUBMIT\n",
    "    Select(driver.find_element_by_xpath(\"//select[@name='districtCode']\")).options[i].click()\n",
    "    driver.find_element_by_xpath(\"//button[@id='SubmitButton']\").click()\n",
    "    time.sleep(5)\n",
    "\n",
    "\n",
    "    try:\n",
    "        no_villages = int(driver.find_element_by_xpath(\"//div[@id='example_info']\").text.split('entries')[0].strip()[-3:])\n",
    "        print('Number of Villages in District: ',no_villages )\n",
    "        max_pages = int(np.ceil(no_villages/10))\n",
    "    except:\n",
    "        continue\n",
    "    \n",
    "    #DOWNLOAD THE MASTER EXCEL FOR EACH DISTRICT\n",
    "    driver.find_element_by_xpath(\"//button[@class='dt-button buttons-excel buttons-html5 btn btn-default btn-xs']\").click()\n",
    "    \n",
    "    # HIT THE DOWNLOAD BUTTON FOR EACH VILLAGE\n",
    "    Download_options = driver.find_elements_by_xpath(\"//*[contains(text(), 'Download')]\")\n",
    "    no_downloads = len(Download_options)\n",
    "    for k in range(no_downloads):\n",
    "        Download_options[k].click()\n",
    "    \n",
    "    \n",
    "    # CRAWL ACROSS EACH PAGE and REPEAT ABOVE STEP\n",
    "    for w in range(2,max_pages+1):\n",
    "        print('Page No:',w)\n",
    "        driver.find_element_by_xpath(\"//a[@class='paginate_button next']\").click()\n",
    "        Download_options = driver.find_elements_by_xpath(\"//*[contains(text(), 'Download')]\")\n",
    "        no_downloads = len(Download_options)\n",
    "        for k in range(no_downloads):\n",
    "            Download_options[k].click()\n",
    "        time.sleep(5)"
   ]
  },
  {
   "cell_type": "markdown",
   "metadata": {},
   "source": [
    "- Make sure to change your downloads folder. "
   ]
  },
  {
   "cell_type": "markdown",
   "metadata": {},
   "source": [
    "# READING DOWNLOADED PDFs"
   ]
  },
  {
   "cell_type": "code",
   "execution_count": 68,
   "metadata": {},
   "outputs": [
    {
     "data": {
      "text/plain": [
       "['00194909_f_20201209162305.pdf',\n",
       " '00194911_f_20201223125603.pdf',\n",
       " '00194913_f_20201223125609.pdf',\n",
       " '00194914_f_20201223125616.pdf',\n",
       " '00194915_f_20201212000711.pdf']"
      ]
     },
     "execution_count": 68,
     "metadata": {},
     "output_type": "execute_result"
    }
   ],
   "source": [
    "files = [f for f in os.listdir('Antyodaya_Telangana') if f[-3:]=='pdf']\n",
    "files[:5]"
   ]
  },
  {
   "cell_type": "code",
   "execution_count": 111,
   "metadata": {},
   "outputs": [],
   "source": [
    "gp_name = []\n",
    "district = []\n",
    "total_pop = []\n",
    "male_pop = []\n",
    "female_pop = []\n",
    "poverty_score = []\n",
    "edu_score = []\n",
    "health_score = []\n",
    "total_score = []\n",
    "\n",
    "exception_files = []\n",
    "for file in files:\n",
    "    pdf_file = \"Antyodaya_Telangana/\"+file\n",
    "    tables = camelot.read_pdf(pdf_file, flavor='lattice', pages='1')\n",
    "    df = tables[0].df\n",
    "    try:\n",
    "        gp_name.append(df.iloc[4][14][:-8])\n",
    "        district.append(df.iloc[2][30].split('(')[0]) \n",
    "        total_pop.append(float(df.iloc[7][4]))\n",
    "        male_pop.append(float(df.iloc[7][8]))\n",
    "        female_pop.append(float(df.iloc[7][12]))\n",
    "        poverty_score.append(float(df.iloc[13][37]))\n",
    "        edu_score.append(float(df.iloc[13][25]))\n",
    "        health_score.append(float(df.iloc[13][29]))\n",
    "        total_score.append(float(df.iloc[13][45]))\n",
    "    except:\n",
    "        #print(file)\n",
    "        exception_files.append(file)\n",
    "        pass\n",
    "    \n",
    "## Then re-run the above loop with exception_files after making suitable changes. "
   ]
  },
  {
   "cell_type": "code",
   "execution_count": 89,
   "metadata": {},
   "outputs": [],
   "source": [
    "antyodaya_df = pd.DataFrame([gp_name,district,total_pop,male_pop,female_pop,poverty_score,edu_score,health_score,total_score]).T\n",
    "antyodaya_df.columns = ['Gram_Panchayat','District','Total_Population','Male_Population','Female_Population','Poverty_Score','Education_Score','Health_Score','Total_Score']"
   ]
  },
  {
   "cell_type": "code",
   "execution_count": 117,
   "metadata": {},
   "outputs": [
    {
     "data": {
      "text/html": [
       "<div>\n",
       "<style scoped>\n",
       "    .dataframe tbody tr th:only-of-type {\n",
       "        vertical-align: middle;\n",
       "    }\n",
       "\n",
       "    .dataframe tbody tr th {\n",
       "        vertical-align: top;\n",
       "    }\n",
       "\n",
       "    .dataframe thead th {\n",
       "        text-align: right;\n",
       "    }\n",
       "</style>\n",
       "<table border=\"1\" class=\"dataframe\">\n",
       "  <thead>\n",
       "    <tr style=\"text-align: right;\">\n",
       "      <th></th>\n",
       "      <th>Gram_Panchayat</th>\n",
       "      <th>District</th>\n",
       "      <th>Total_Population</th>\n",
       "      <th>Male_Population</th>\n",
       "      <th>Female_Population</th>\n",
       "      <th>Poverty_Score</th>\n",
       "      <th>Education_Score</th>\n",
       "      <th>Health_Score</th>\n",
       "      <th>Total_Score</th>\n",
       "    </tr>\n",
       "  </thead>\n",
       "  <tbody>\n",
       "    <tr>\n",
       "      <th>8599</th>\n",
       "      <td>Pedda Thanda</td>\n",
       "      <td>JOGULAMBA GADWAL</td>\n",
       "      <td>616</td>\n",
       "      <td>318</td>\n",
       "      <td>298</td>\n",
       "      <td>3</td>\n",
       "      <td>2</td>\n",
       "      <td>9</td>\n",
       "      <td>48</td>\n",
       "    </tr>\n",
       "    <tr>\n",
       "      <th>8600</th>\n",
       "      <td>Gorloni Bavi</td>\n",
       "      <td>Mulugu</td>\n",
       "      <td>790</td>\n",
       "      <td>421</td>\n",
       "      <td>369</td>\n",
       "      <td>3</td>\n",
       "      <td>2</td>\n",
       "      <td>4.5</td>\n",
       "      <td>30.5</td>\n",
       "    </tr>\n",
       "    <tr>\n",
       "      <th>8601</th>\n",
       "      <td>Adluru(K)</td>\n",
       "      <td>Mulugu</td>\n",
       "      <td>747</td>\n",
       "      <td>378</td>\n",
       "      <td>369</td>\n",
       "      <td>4</td>\n",
       "      <td>1</td>\n",
       "      <td>5</td>\n",
       "      <td>42</td>\n",
       "    </tr>\n",
       "    <tr>\n",
       "      <th>8602</th>\n",
       "      <td>Dhakya Thanda</td>\n",
       "      <td>YADADRI BHUVANAGIRI</td>\n",
       "      <td>568</td>\n",
       "      <td>306</td>\n",
       "      <td>262</td>\n",
       "      <td>2</td>\n",
       "      <td>1</td>\n",
       "      <td>5</td>\n",
       "      <td>34</td>\n",
       "    </tr>\n",
       "    <tr>\n",
       "      <th>8603</th>\n",
       "      <td>School Thanda</td>\n",
       "      <td>YADADRI BHUVANAGIRI</td>\n",
       "      <td>821</td>\n",
       "      <td>412</td>\n",
       "      <td>409</td>\n",
       "      <td>4</td>\n",
       "      <td>1</td>\n",
       "      <td>4.5</td>\n",
       "      <td>28</td>\n",
       "    </tr>\n",
       "  </tbody>\n",
       "</table>\n",
       "</div>"
      ],
      "text/plain": [
       "     Gram_Panchayat             District Total_Population Male_Population  \\\n",
       "8599   Pedda Thanda     JOGULAMBA GADWAL              616             318   \n",
       "8600   Gorloni Bavi               Mulugu              790             421   \n",
       "8601      Adluru(K)               Mulugu              747             378   \n",
       "8602  Dhakya Thanda  YADADRI BHUVANAGIRI              568             306   \n",
       "8603  School Thanda  YADADRI BHUVANAGIRI              821             412   \n",
       "\n",
       "     Female_Population Poverty_Score Education_Score Health_Score Total_Score  \n",
       "8599               298             3               2            9          48  \n",
       "8600               369             3               2          4.5        30.5  \n",
       "8601               369             4               1            5          42  \n",
       "8602               262             2               1            5          34  \n",
       "8603               409             4               1          4.5          28  "
      ]
     },
     "execution_count": 117,
     "metadata": {},
     "output_type": "execute_result"
    }
   ],
   "source": [
    "antyodaya_df.dropna('').tail()"
   ]
  },
  {
   "cell_type": "code",
   "execution_count": 114,
   "metadata": {},
   "outputs": [],
   "source": [
    "antyodaya_df.dropna().to_csv('TG_GP_Antyodaya.csv',index=False)"
   ]
  },
  {
   "cell_type": "code",
   "execution_count": null,
   "metadata": {},
   "outputs": [],
   "source": []
  }
 ],
 "metadata": {
  "kernelspec": {
   "display_name": "Python 3",
   "language": "python",
   "name": "python3"
  },
  "language_info": {
   "codemirror_mode": {
    "name": "ipython",
    "version": 3
   },
   "file_extension": ".py",
   "mimetype": "text/x-python",
   "name": "python",
   "nbconvert_exporter": "python",
   "pygments_lexer": "ipython3",
   "version": "3.8.3"
  }
 },
 "nbformat": 4,
 "nbformat_minor": 4
}
