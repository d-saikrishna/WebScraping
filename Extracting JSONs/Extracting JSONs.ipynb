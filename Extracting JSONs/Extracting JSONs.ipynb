{
 "cells": [
  {
   "cell_type": "code",
   "execution_count": 119,
   "metadata": {},
   "outputs": [],
   "source": [
    "import pandas as pd\n",
    "from collections import OrderedDict\n",
    "\n",
    "\n",
    "# Packages required for JSON extraction:\n",
    "import json\n",
    "import requests\n",
    "from urllib import request\n",
    "from bs4 import BeautifulSoup\n"
   ]
  },
  {
   "cell_type": "markdown",
   "metadata": {},
   "source": [
    "# Extracting JSONs:\n",
    "\n",
    "Here is how the sample JSON file from cleartax website looks. We should extract address from such JSONs."
   ]
  },
  {
   "cell_type": "code",
   "execution_count": 101,
   "metadata": {},
   "outputs": [],
   "source": [
    "#Json sample from Clear Tax site - written as Python String\n",
    "json_sample = '''\n",
    "{\"taxpayerInfo\": {\"taxpayerInfo\": {\"pradr\": {\"ntr\": \"Retail Business\", \"addr\": {\"lt\": \"\", \"city\": \"\", \"bnm\": \"\", \"lg\": \"\", \"pncd\": \"403401\", \"st\": \"DHAVALI KAVALE\", \"bno\": \"449\", \"loc\": \"PONDA\", \"dst\": \"North Goa\", \"stcd\": \"Goa\", \"flno\": \"\"}}, \"stjCd\": \"GA007\", \"stj\": \"Ponda\", \"cxdt\": \"\", \"lstupdt\": \"21/Sep/2020\", \"sts\": \"Active\", \"ctb\": \"Proprietorship\", \"tradeNam\": \"M/S OM SAI TRADERS\", \"errorMsg\": null, \"ctjCd\": \"UF0303\", \"dty\": \"Regular\", \"ctj\": \"RANGE-III-PONDA\", \"frequencyType\": null, \"nba\": [\"Retail Business\"], \"gstin\": \"30AFRPN5938E2ZA\", \"adadr\": [], \"lgnm\": \"DEEPAK RAGHU NAIK\", \"rgdt\": \"27/07/2017\"}, \"errorResponse\": null}, \"filing\": [], \"compliance\": {\"filingFrequency\": null}}\n",
    "'''"
   ]
  },
  {
   "cell_type": "code",
   "execution_count": 102,
   "metadata": {},
   "outputs": [],
   "source": [
    "#Convert Python String into JSON\n",
    "data = json.loads(json_sample)"
   ]
  },
  {
   "cell_type": "code",
   "execution_count": 103,
   "metadata": {},
   "outputs": [
    {
     "name": "stdout",
     "output_type": "stream",
     "text": [
      "{'taxpayerInfo': {'taxpayerInfo': {'pradr': {'ntr': 'Retail Business', 'addr': {'lt': '', 'city': '', 'bnm': '', 'lg': '', 'pncd': '403401', 'st': 'DHAVALI KAVALE', 'bno': '449', 'loc': 'PONDA', 'dst': 'North Goa', 'stcd': 'Goa', 'flno': ''}}, 'stjCd': 'GA007', 'stj': 'Ponda', 'cxdt': '', 'lstupdt': '21/Sep/2020', 'sts': 'Active', 'ctb': 'Proprietorship', 'tradeNam': 'M/S OM SAI TRADERS', 'errorMsg': None, 'ctjCd': 'UF0303', 'dty': 'Regular', 'ctj': 'RANGE-III-PONDA', 'frequencyType': None, 'nba': ['Retail Business'], 'gstin': '30AFRPN5938E2ZA', 'adadr': [], 'lgnm': 'DEEPAK RAGHU NAIK', 'rgdt': '27/07/2017'}, 'errorResponse': None}, 'filing': [], 'compliance': {'filingFrequency': None}}\n"
     ]
    }
   ],
   "source": [
    "print(data)"
   ]
  },
  {
   "cell_type": "code",
   "execution_count": 104,
   "metadata": {},
   "outputs": [
    {
     "name": "stdout",
     "output_type": "stream",
     "text": [
      "<class 'dict'>\n"
     ]
    }
   ],
   "source": [
    "print(type(data))"
   ]
  },
  {
   "cell_type": "code",
   "execution_count": 105,
   "metadata": {},
   "outputs": [
    {
     "data": {
      "text/plain": [
       "'M/S OM SAI TRADERS'"
      ]
     },
     "execution_count": 105,
     "metadata": {},
     "output_type": "execute_result"
    }
   ],
   "source": [
    "data['taxpayerInfo']['taxpayerInfo']['tradeNam']"
   ]
  },
  {
   "cell_type": "code",
   "execution_count": 106,
   "metadata": {},
   "outputs": [
    {
     "data": {
      "text/plain": [
       "OrderedDict([('bno', '449'),\n",
       "             ('lt', ''),\n",
       "             ('city', ''),\n",
       "             ('bnm', ''),\n",
       "             ('lg', ''),\n",
       "             ('st', 'DHAVALI KAVALE'),\n",
       "             ('loc', 'PONDA'),\n",
       "             ('dst', 'North Goa'),\n",
       "             ('flno', ''),\n",
       "             ('stcd', 'Goa'),\n",
       "             ('pncd', '403401')])"
      ]
     },
     "execution_count": 106,
     "metadata": {},
     "output_type": "execute_result"
    }
   ],
   "source": [
    "d = OrderedDict(data['taxpayerInfo']['taxpayerInfo']['pradr']['addr'])\n",
    "d.move_to_end('stcd')\n",
    "d.move_to_end('pncd')\n",
    "d.move_to_end('bno',False)\n",
    "d#.values()"
   ]
  },
  {
   "cell_type": "code",
   "execution_count": 107,
   "metadata": {},
   "outputs": [
    {
     "data": {
      "text/plain": [
       "'449, DHAVALI KAVALE, PONDA, North Goa, Goa, 403401'"
      ]
     },
     "execution_count": 107,
     "metadata": {},
     "output_type": "execute_result"
    }
   ],
   "source": [
    "s = ','.join(d.values()).replace('.','')\n",
    "s = [o for o in s.split(',') if len(o)]\n",
    "', '.join(s)"
   ]
  },
  {
   "cell_type": "code",
   "execution_count": null,
   "metadata": {},
   "outputs": [],
   "source": [
    "# Write a function that does the above extraction:\n",
    "def get_address_from_json(json_data,df):\n",
    "    data = json.loads(json_data)\n",
    "    \n",
    "    firm = data['taxpayerInfo']['taxpayerInfo']['tradeNam']\n",
    "    \n",
    "    d = OrderedDict(data['taxpayerInfo']['taxpayerInfo']['pradr']['addr'])\n",
    "    d.move_to_end('stcd')\n",
    "    d.move_to_end('pncd')\n",
    "    d.move_to_end('bno',False)\n",
    "    #print(d)\n",
    "    s = ','.join(d.values()).replace('.','')\n",
    "    s = [o for o in s.split(',') if len(o)]\n",
    "    address =  ', '.join(s)\n",
    "    #print(address)\n",
    "    df = df.append({'Firm':firm,\n",
    "                    'Address':address},ignore_index=True)\n",
    "    return df"
   ]
  },
  {
   "cell_type": "markdown",
   "metadata": {},
   "source": [
    "# Creating Address Dataset"
   ]
  },
  {
   "cell_type": "code",
   "execution_count": 174,
   "metadata": {},
   "outputs": [
    {
     "name": "stderr",
     "output_type": "stream",
     "text": [
      "C:\\Users\\saikr\\Anaconda3\\lib\\site-packages\\IPython\\core\\interactiveshell.py:3071: DtypeWarning: Columns (3) have mixed types.Specify dtype option on import or set low_memory=False.\n",
      "  has_raised = await self.run_ast_nodes(code_ast.body, cell_name,\n"
     ]
    },
    {
     "data": {
      "text/html": [
       "<div>\n",
       "<style scoped>\n",
       "    .dataframe tbody tr th:only-of-type {\n",
       "        vertical-align: middle;\n",
       "    }\n",
       "\n",
       "    .dataframe tbody tr th {\n",
       "        vertical-align: top;\n",
       "    }\n",
       "\n",
       "    .dataframe thead th {\n",
       "        text-align: right;\n",
       "    }\n",
       "</style>\n",
       "<table border=\"1\" class=\"dataframe\">\n",
       "  <thead>\n",
       "    <tr style=\"text-align: right;\">\n",
       "      <th></th>\n",
       "      <th>Month</th>\n",
       "      <th>Year</th>\n",
       "      <th>st</th>\n",
       "      <th>gstin</th>\n",
       "    </tr>\n",
       "  </thead>\n",
       "  <tbody>\n",
       "    <tr>\n",
       "      <th>244781</th>\n",
       "      <td>Aug</td>\n",
       "      <td>2018.0</td>\n",
       "      <td>DN</td>\n",
       "      <td>NaN</td>\n",
       "    </tr>\n",
       "    <tr>\n",
       "      <th>111708</th>\n",
       "      <td>Aug</td>\n",
       "      <td>2018.0</td>\n",
       "      <td>UP</td>\n",
       "      <td>19DYCPB2403M1ZL</td>\n",
       "    </tr>\n",
       "  </tbody>\n",
       "</table>\n",
       "</div>"
      ],
      "text/plain": [
       "       Month    Year  st            gstin\n",
       "244781   Aug  2018.0  DN              NaN\n",
       "111708   Aug  2018.0  UP  19DYCPB2403M1ZL"
      ]
     },
     "execution_count": 174,
     "metadata": {},
     "output_type": "execute_result"
    }
   ],
   "source": [
    "gstn_df = pd.read_csv('Book1.csv')\n",
    "gstn_df.sample(2)"
   ]
  },
  {
   "cell_type": "code",
   "execution_count": 181,
   "metadata": {},
   "outputs": [],
   "source": [
    "gstins = gstn_df.dropna().gstin.unique()"
   ]
  },
  {
   "cell_type": "code",
   "execution_count": 182,
   "metadata": {},
   "outputs": [
    {
     "data": {
      "text/plain": [
       "208676"
      ]
     },
     "execution_count": 182,
     "metadata": {},
     "output_type": "execute_result"
    }
   ],
   "source": [
    "len(gstins)"
   ]
  },
  {
   "cell_type": "code",
   "execution_count": 176,
   "metadata": {},
   "outputs": [],
   "source": [
    "address_df = pd.DataFrame(columns=['Firm','Address'])"
   ]
  },
  {
   "cell_type": "code",
   "execution_count": 179,
   "metadata": {},
   "outputs": [
    {
     "name": "stdout",
     "output_type": "stream",
     "text": [
      "01AAAAA0702A1Z7\n",
      "01AAAAB1726H1ZI\n",
      "01AAAAB3160D1ZQ\n",
      "01AAAAC9093N1ZK\n"
     ]
    }
   ],
   "source": [
    "#Get json \n",
    "\n",
    "for gstin in gstins[:4]:\n",
    "    gstin = str(gstin)\n",
    "    print(gstin)\n",
    "    URL =  \"https://cleartax.in/f/compliance-report/\" + gstin + \"/\"\n",
    "    html = request.urlopen(URL).read()\n",
    "    soup = BeautifulSoup(html)\n",
    "    address_df = get_address_from_json(soup.text,address_df)\n",
    "    "
   ]
  },
  {
   "cell_type": "code",
   "execution_count": 183,
   "metadata": {},
   "outputs": [],
   "source": [
    "address_df.to_csv('address_sample.csv',index=False)"
   ]
  },
  {
   "cell_type": "code",
   "execution_count": null,
   "metadata": {},
   "outputs": [],
   "source": []
  }
 ],
 "metadata": {
  "kernelspec": {
   "display_name": "Python 3",
   "language": "python",
   "name": "python3"
  },
  "language_info": {
   "codemirror_mode": {
    "name": "ipython",
    "version": 3
   },
   "file_extension": ".py",
   "mimetype": "text/x-python",
   "name": "python",
   "nbconvert_exporter": "python",
   "pygments_lexer": "ipython3",
   "version": "3.8.3"
  }
 },
 "nbformat": 4,
 "nbformat_minor": 4
}
